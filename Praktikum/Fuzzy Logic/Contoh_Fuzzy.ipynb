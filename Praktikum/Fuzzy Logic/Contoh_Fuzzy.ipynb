{
 "cells": [
  {
   "cell_type": "code",
   "execution_count": 33,
   "metadata": {
    "collapsed": true
   },
   "outputs": [
    {
     "name": "stdout",
     "output_type": "stream",
     "text": [
      "Requirement already satisfied: scikit-fuzzy in c:\\users\\ferli\\anaconda3\\lib\\site-packages (0.4.2)\n",
      "Requirement already satisfied: numpy>=1.6.0 in c:\\users\\ferli\\anaconda3\\lib\\site-packages (from scikit-fuzzy) (1.21.5)\n",
      "Requirement already satisfied: networkx>=1.9.0 in c:\\users\\ferli\\anaconda3\\lib\\site-packages (from scikit-fuzzy) (2.7.1)\n",
      "Requirement already satisfied: scipy>=0.9.0 in c:\\users\\ferli\\anaconda3\\lib\\site-packages (from scikit-fuzzy) (1.7.3)\n"
     ]
    }
   ],
   "source": [
    "!pip install scikit-fuzzy"
   ]
  },
  {
   "cell_type": "code",
   "execution_count": 34,
   "outputs": [],
   "source": [
    "import pandas as pd\n",
    "import numpy as np\n",
    "import skfuzzy as sf\n",
    "import matplotlib.pyplot as plt"
   ],
   "metadata": {
    "collapsed": false
   }
  },
  {
   "cell_type": "code",
   "execution_count": 35,
   "outputs": [],
   "source": [
    "r_md = [25, 25, 35] # Muda\n",
    "r_pb = [30, 40, 45] # Paruh Baya\n",
    "r_tu = [40, 60, 60] # Tua"
   ],
   "metadata": {
    "collapsed": false
   }
  },
  {
   "cell_type": "code",
   "execution_count": 36,
   "outputs": [
    {
     "data": {
      "text/plain": "array([25, 26, 27, 28, 29, 30, 31, 32, 33, 34, 35, 36, 37, 38, 39, 40, 41,\n       42, 43, 44, 45, 46, 47, 48, 49, 50, 51, 52, 53, 54, 55, 56, 57, 58,\n       59])"
     },
     "execution_count": 36,
     "metadata": {},
     "output_type": "execute_result"
    }
   ],
   "source": [
    "r_graph = np.arange(25, 60)\n",
    "r_graph"
   ],
   "metadata": {
    "collapsed": false
   }
  },
  {
   "cell_type": "code",
   "execution_count": 37,
   "outputs": [],
   "source": [
    "def drawMembershipTringular(r_graph, fset, lset):\n",
    "    deg = []\n",
    "    for f in fset:\n",
    "        deg.append(sf.trimf(r_graph, f))\n",
    "\n",
    "    fig, ax = plt.subplots()\n",
    "    for mf, label in zip(deg, lset):\n",
    "        ax.plot(r_graph, mf, label=label)\n",
    "\n",
    "    ax.legend()\n",
    "    fig.show()\n"
   ],
   "metadata": {
    "collapsed": false
   }
  },
  {
   "cell_type": "code",
   "execution_count": 38,
   "outputs": [],
   "source": [
    "fset = [r_md, r_pb, r_tu]\n",
    "lset = ['Muda', 'Paruh Baya', 'Tua']"
   ],
   "metadata": {
    "collapsed": false
   }
  },
  {
   "cell_type": "code",
   "execution_count": 39,
   "outputs": [
    {
     "name": "stderr",
     "output_type": "stream",
     "text": [
      "C:\\Users\\ferli\\AppData\\Local\\Temp\\ipykernel_4540\\804144194.py:11: UserWarning: Matplotlib is currently using module://matplotlib_inline.backend_inline, which is a non-GUI backend, so cannot show the figure.\n",
      "  fig.show()\n"
     ]
    },
    {
     "data": {
      "text/plain": "<Figure size 432x288 with 1 Axes>",
      "image/png": "[encoded data removed]"
     },
     "metadata": {
      "needs_background": "light"
     },
     "output_type": "display_data"
    }
   ],
   "source": [
    "drawMembershipTringular(r_graph, fset, lset)"
   ],
   "metadata": {
    "collapsed": false
   }
  }
 ],
 "metadata": {
  "kernelspec": {
   "display_name": "Python 3",
   "language": "python",
   "name": "python3"
  },
  "language_info": {
   "codemirror_mode": {
    "name": "ipython",
    "version": 2
   },
   "file_extension": ".py",
   "mimetype": "text/x-python",
   "name": "python",
   "nbconvert_exporter": "python",
   "pygments_lexer": "ipython2",
   "version": "2.7.6"
  }
 },
 "nbformat": 4,
 "nbformat_minor": 0
}
