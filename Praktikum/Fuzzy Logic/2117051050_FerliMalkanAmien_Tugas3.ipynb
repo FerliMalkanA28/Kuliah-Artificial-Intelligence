{
 "cells": [
  {
   "cell_type": "markdown",
   "source": [
    "# Tugas 3 : Fuzzy Logic\n",
    "<br>\n",
    "Nama : Ferli Malkan Amien <br>\n",
    "NPM  : 2117051050 <br>\n",
    "Kelas: C"
   ],
   "metadata": {
    "collapsed": false
   }
  },
  {
   "cell_type": "code",
   "execution_count": 1,
   "outputs": [
    {
     "name": "stdout",
     "output_type": "stream",
     "text": [
      "Requirement already satisfied: scikit-fuzzy in c:\\users\\ferli\\anaconda3\\lib\\site-packages (0.4.2)\n",
      "Requirement already satisfied: scipy>=0.9.0 in c:\\users\\ferli\\anaconda3\\lib\\site-packages (from scikit-fuzzy) (1.7.3)\n",
      "Requirement already satisfied: networkx>=1.9.0 in c:\\users\\ferli\\anaconda3\\lib\\site-packages (from scikit-fuzzy) (2.7.1)\n",
      "Requirement already satisfied: numpy>=1.6.0 in c:\\users\\ferli\\anaconda3\\lib\\site-packages (from scikit-fuzzy) (1.21.5)\n"
     ]
    }
   ],
   "source": [
    "!pip install scikit-fuzzy"
   ],
   "metadata": {
    "collapsed": false
   }
  },
  {
   "cell_type": "code",
   "execution_count": 2,
   "outputs": [],
   "source": [
    "import pandas as pd\n",
    "import numpy as np\n",
    "import skfuzzy as sf\n",
    "import matplotlib.pyplot as plt"
   ],
   "metadata": {
    "collapsed": false
   }
  },
  {
   "cell_type": "code",
   "execution_count": 3,
   "outputs": [],
   "source": [
    "r_sedikit = [500, 500, 1200] # Sedikit\n",
    "r_sedang = [1000, 2000, 3000] # Sedang\n",
    "r_banyak = [3000, 5000, 5000] # Banyak"
   ],
   "metadata": {
    "collapsed": false
   }
  },
  {
   "cell_type": "code",
   "execution_count": 4,
   "outputs": [
    {
     "data": {
      "text/plain": "array([ 500,  501,  502, ..., 4997, 4998, 4999])"
     },
     "execution_count": 4,
     "metadata": {},
     "output_type": "execute_result"
    }
   ],
   "source": [
    "r_graph = np.arange(500, 5000)\n",
    "r_graph"
   ],
   "metadata": {
    "collapsed": false
   }
  },
  {
   "cell_type": "code",
   "execution_count": 5,
   "outputs": [],
   "source": [
    "def drawMembershipTringular(r_graph, fset, lset):\n",
    "    deg = []\n",
    "    for f in fset:\n",
    "        deg.append(sf.trimf(r_graph, f))\n",
    "\n",
    "    fig, ax = plt.subplots()\n",
    "    for mf, label in zip(deg, lset):\n",
    "        ax.plot(r_graph, mf, label=label)\n",
    "\n",
    "    ax.legend()\n",
    "    fig.show()\n"
   ],
   "metadata": {
    "collapsed": false
   }
  },
  {
   "cell_type": "code",
   "execution_count": 6,
   "outputs": [],
   "source": [
    "fset = [r_sedikit, r_sedang, r_banyak]\n",
    "lset = ['Sedikit', 'Sedang', 'Banyak']"
   ],
   "metadata": {
    "collapsed": false
   }
  },
  {
   "cell_type": "code",
   "execution_count": 7,
   "outputs": [
    {
     "name": "stderr",
     "output_type": "stream",
     "text": [
      "C:\\Users\\ferli\\AppData\\Local\\Temp\\ipykernel_22156\\804144194.py:11: UserWarning: Matplotlib is currently using module://matplotlib_inline.backend_inline, which is a non-GUI backend, so cannot show the figure.\n",
      "  fig.show()\n"
     ]
    },
    {
     "data": {
      "text/plain": "<Figure size 432x288 with 1 Axes>",
      "image/png": "[encoded data removed]"
     },
     "metadata": {
      "needs_background": "light"
     },
     "output_type": "display_data"
    }
   ],
   "source": [
    "drawMembershipTringular(r_graph, fset, lset)"
   ],
   "metadata": {
    "collapsed": false
   }
  }
 ],
 "metadata": {
  "kernelspec": {
   "display_name": "Python 3",
   "language": "python",
   "name": "python3"
  },
  "language_info": {
   "codemirror_mode": {
    "name": "ipython",
    "version": 2
   },
   "file_extension": ".py",
   "mimetype": "text/x-python",
   "name": "python",
   "nbconvert_exporter": "python",
   "pygments_lexer": "ipython2",
   "version": "2.7.6"
  }
 },
 "nbformat": 4,
 "nbformat_minor": 0
}
